{
 "cells": [
  {
   "cell_type": "markdown",
   "id": "22515a0e-14c2-492e-8dac-3c0fc3d50225",
   "metadata": {},
   "source": [
    "# VARIABLES - PRÁCTICA"
   ]
  },
  {
   "cell_type": "markdown",
   "id": "9dc8f15b-445b-45ff-970d-c81a7df906ca",
   "metadata": {},
   "source": [
    "#### EJERCICIO 1:\n",
    "Crea una variable llamada `nombre` que almacene tu nombre. Luego imprime:<br>\n",
    "Hola, mi nombre es 'nombre':"
   ]
  },
  {
   "cell_type": "code",
   "execution_count": 1,
   "id": "21d9908a-2ef7-44e4-b365-3d84a01210d3",
   "metadata": {},
   "outputs": [
    {
     "data": {
      "text/plain": [
       "'Hola, mi nombre es Adrian.'"
      ]
     },
     "execution_count": 1,
     "metadata": {},
     "output_type": "execute_result"
    }
   ],
   "source": [
    "nombre = 'Adrian'\n",
    "f'Hola, mi nombre es {nombre}.'"
   ]
  },
  {
   "cell_type": "markdown",
   "id": "ae73ac5b-3f44-48c8-bbca-400b48478314",
   "metadata": {},
   "source": [
    "#### EJERCICIO 2:\n",
    "Crea una variable `edad` con tu edad y muestra su tipo con type().<br>\n",
    "Conviértela en `str` e imprime una frase como:<br>\n",
    "\"Tengo 'edad' años y mi edad es de tipo 'tipo'\"."
   ]
  },
  {
   "cell_type": "code",
   "execution_count": 3,
   "id": "89c3ccb1-6767-4322-a1ab-718f6a2b3265",
   "metadata": {},
   "outputs": [
    {
     "name": "stdout",
     "output_type": "stream",
     "text": [
      "<class 'int'>\n"
     ]
    },
    {
     "data": {
      "text/plain": [
       "\"Tengo 25 años y mi edad es de tipo <class 'str'>\""
      ]
     },
     "execution_count": 3,
     "metadata": {},
     "output_type": "execute_result"
    }
   ],
   "source": [
    "edad = 25\n",
    "print(type(edad))\n",
    "edad = str(edad)\n",
    "f'Tengo {edad} años y mi edad es de tipo {type(edad)}'"
   ]
  },
  {
   "cell_type": "markdown",
   "id": "278308d1-2e4b-4a65-af84-9753387c3d21",
   "metadata": {},
   "source": [
    "#### EJERCICIO 3:\n",
    "Declara una variable `ciudad` con el nombre de tu ciudad actual.<br>\n",
    "Reasígnala para que contenga una ciudad diferente.<br>\n",
    "Imprime el resultado antes y después de la reasignación."
   ]
  },
  {
   "cell_type": "code",
   "execution_count": 9,
   "id": "23c61c66-8b13-479c-aa9b-d5fa65e5308b",
   "metadata": {},
   "outputs": [
    {
     "name": "stdout",
     "output_type": "stream",
     "text": [
      "Mi ciudad actual es Madrid\n"
     ]
    },
    {
     "data": {
      "text/plain": [
       "'La ciudad reasignada es Tokyo.'"
      ]
     },
     "execution_count": 9,
     "metadata": {},
     "output_type": "execute_result"
    }
   ],
   "source": [
    "ciudad = 'Madrid'\n",
    "print('Mi ciudad actual es',ciudad)\n",
    "ciudad = 'Tokyo'\n",
    "f'La ciudad reasignada es {ciudad}.'"
   ]
  },
  {
   "cell_type": "markdown",
   "id": "f061d862-66c3-4ebd-a720-d0a4823ee1ec",
   "metadata": {},
   "source": [
    "#### EJERCICIO 4:\n",
    "Declara dos variables `num1` y `num2`<br>\n",
    "Imprime su suma, resta, multiplicación y división."
   ]
  },
  {
   "cell_type": "code",
   "execution_count": 11,
   "id": "35b8dc67-633f-44be-85bf-af365c707953",
   "metadata": {},
   "outputs": [
    {
     "data": {
      "text/plain": [
       "'La suma es 15, la resta es 5, la multiplicación es 50, y la division es 2.'"
      ]
     },
     "execution_count": 11,
     "metadata": {},
     "output_type": "execute_result"
    }
   ],
   "source": [
    "num1 = 10\n",
    "num2 = 5\n",
    "\n",
    "suma = num1 + num2\n",
    "resta = num1 - num2\n",
    "multiplicacion = num1 * num2\n",
    "division = num1 // num2\n",
    "\n",
    "f'La suma es {suma}, la resta es {resta}, la multiplicación es {multiplicacion}, y la division es {division}.'"
   ]
  },
  {
   "cell_type": "markdown",
   "id": "1519e932-3420-4762-8b14-ce6a565d44c1",
   "metadata": {},
   "source": [
    "#### EJERCICIO 5:\n",
    "Declara una variable `altura` y otra variable `peso`<br>\n",
    "Convierte `altura` y `peso` en float y úsalos para calcular el IMC."
   ]
  },
  {
   "cell_type": "code",
   "execution_count": 12,
   "id": "4eb31273-9497-4508-86d1-60e6bc094223",
   "metadata": {},
   "outputs": [
    {
     "data": {
      "text/plain": [
       "'El IMC es de 21.88512813658993.'"
      ]
     },
     "execution_count": 12,
     "metadata": {},
     "output_type": "execute_result"
    }
   ],
   "source": [
    "altura = '1.73'\n",
    "peso = 65.5\n",
    "\n",
    "altura = float(altura)\n",
    "imc = peso/(altura**2)\n",
    "\n",
    "f'El IMC es de {imc}.'"
   ]
  },
  {
   "cell_type": "markdown",
   "id": "42d73f3c-d9d1-441f-a386-e0b5202bef71",
   "metadata": {},
   "source": [
    "#### EJERCICIO 6:\n",
    "Crea una variable `es_estudiante`<br>\n",
    "Imprime una frase que use esa variable."
   ]
  },
  {
   "cell_type": "code",
   "execution_count": 13,
   "id": "9c847f01-ebef-4e3d-a042-905c32945836",
   "metadata": {},
   "outputs": [
    {
     "name": "stdout",
     "output_type": "stream",
     "text": [
      "¿Eres estudiante? True\n"
     ]
    }
   ],
   "source": [
    "es_estudiante = True\n",
    "print(\"¿Eres estudiante?\", es_estudiante)"
   ]
  },
  {
   "cell_type": "markdown",
   "id": "5b5f39e9-9d0a-43f8-9964-83365ba83796",
   "metadata": {},
   "source": [
    "#### EJERCICIO 7:\n",
    "Mini ficha personal:<br>\n",
    "Crea 4 variables: `nombre`, `edad`, `altura`, `es_estudiante`.\n",
    "- Usa input para pedir el nombre y la edad.\n",
    "- Convierte la edad en int.\n",
    "- Altura puede ser un float fijo.\n",
    "- es_estudiante puede ser True o False."
   ]
  },
  {
   "cell_type": "code",
   "execution_count": 20,
   "id": "f90af650-f3a9-4dd3-8440-42667d0478d2",
   "metadata": {},
   "outputs": [
    {
     "name": "stdin",
     "output_type": "stream",
     "text": [
      "¿Cómo te llamas? Adrian\n",
      "¿Cuál es tu edad? 25\n"
     ]
    },
    {
     "data": {
      "text/plain": [
       "'Ficha personal:\\n    - Nombre: Adrian\\n    -Edad: 25 años.\\n    -Altura: 1.73m.\\n    -Estudiante: True'"
      ]
     },
     "execution_count": 20,
     "metadata": {},
     "output_type": "execute_result"
    }
   ],
   "source": [
    "nombre = input('¿Cómo te llamas?')\n",
    "edad = input('¿Cuál es tu edad?')\n",
    "altura = 1.73\n",
    "es_estudiante = True\n",
    "\n",
    "edad = int(edad)\n",
    "\n",
    "f'''Ficha personal:\n",
    "    - Nombre: {nombre}\n",
    "    -Edad: {edad} años.\n",
    "    -Altura: {altura}m.\n",
    "    -Estudiante: {es_estudiante}'''"
   ]
  },
  {
   "cell_type": "markdown",
   "id": "16be175d-5236-4a21-b204-a57ed819de9a",
   "metadata": {},
   "source": [
    "#### EJERCICIO 8:\n",
    "Crea dos variables `a` y `b`<br>\n",
    "Intercambia sus valores sin usar variables temporales."
   ]
  },
  {
   "cell_type": "code",
   "execution_count": 21,
   "id": "052865f4-2fd6-423b-8f5f-61693657c47f",
   "metadata": {},
   "outputs": [
    {
     "data": {
      "text/plain": [
       "'La variable a vale: 10, y la variable b vale: 5.'"
      ]
     },
     "execution_count": 21,
     "metadata": {},
     "output_type": "execute_result"
    }
   ],
   "source": [
    "a = 5\n",
    "b= 10\n",
    "\n",
    "a,b = b,a\n",
    "\n",
    "f'La variable a vale: {a}, y la variable b vale: {b}.'"
   ]
  },
  {
   "cell_type": "code",
   "execution_count": null,
   "id": "88c92387-e554-4e1e-98ce-4bfd106cf2b8",
   "metadata": {},
   "outputs": [],
   "source": []
  }
 ],
 "metadata": {
  "kernelspec": {
   "display_name": "Python [conda env:base] *",
   "language": "python",
   "name": "conda-base-py"
  },
  "language_info": {
   "codemirror_mode": {
    "name": "ipython",
    "version": 3
   },
   "file_extension": ".py",
   "mimetype": "text/x-python",
   "name": "python",
   "nbconvert_exporter": "python",
   "pygments_lexer": "ipython3",
   "version": "3.12.7"
  }
 },
 "nbformat": 4,
 "nbformat_minor": 5
}
