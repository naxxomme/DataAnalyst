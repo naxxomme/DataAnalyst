{
 "cells": [
  {
   "cell_type": "markdown",
   "id": "546b8395-fd4d-4e9e-8b2d-def8fe552925",
   "metadata": {},
   "source": [
    "# VARIABLES:"
   ]
  },
  {
   "cell_type": "markdown",
   "id": "28336d4d-ccc1-4b70-8544-210c910bf4da",
   "metadata": {},
   "source": [
    "En Python existen tres tipos de variables:\n",
    "- Numéricas.\n",
    "- Texto.\n",
    "- Booleanas."
   ]
  },
  {
   "cell_type": "code",
   "execution_count": 1,
   "id": "414ff680-d4c9-42f7-b9ec-b02c5f3a7929",
   "metadata": {},
   "outputs": [],
   "source": [
    "# Variables numéricas\n",
    "num_entero = 5\n",
    "num_decimal = 2.3"
   ]
  },
  {
   "cell_type": "code",
   "execution_count": 2,
   "id": "9fe3dcbc-6c94-4b6c-8451-2c4986ecdd6c",
   "metadata": {},
   "outputs": [],
   "source": [
    "# Variables de texto\n",
    "nombre = 'Adrian'\n",
    "apellido = \"Arroyo\""
   ]
  },
  {
   "cell_type": "code",
   "execution_count": 3,
   "id": "158e0220-fbda-453a-99ba-8e48b5ad7ab3",
   "metadata": {},
   "outputs": [],
   "source": [
    "# Variables booleanas\n",
    "is_true = True\n",
    "is_false = False"
   ]
  },
  {
   "cell_type": "code",
   "execution_count": 7,
   "id": "4489d2f2-8a10-4991-8862-829c6db0ab72",
   "metadata": {},
   "outputs": [
    {
     "name": "stdout",
     "output_type": "stream",
     "text": [
      "<class 'int'>\n",
      "<class 'float'>\n",
      "<class 'str'>\n",
      "<class 'str'>\n",
      "<class 'bool'>\n",
      "<class 'bool'>\n"
     ]
    }
   ],
   "source": [
    "# Para comprobar el tipo de variable utilizamos -> type()\n",
    "print(type(num_entero))\n",
    "print(type(num_decimal))\n",
    "print(type(nombre))\n",
    "print(type(apellido))\n",
    "print(type(is_true))\n",
    "print(type(is_false))"
   ]
  },
  {
   "cell_type": "code",
   "execution_count": 9,
   "id": "2735514e-2853-4fdd-ac8a-4a5451d99b5f",
   "metadata": {},
   "outputs": [
    {
     "data": {
      "text/plain": [
       "str"
      ]
     },
     "execution_count": 9,
     "metadata": {},
     "output_type": "execute_result"
    }
   ],
   "source": [
    "# Conversión de una variable en otra (casting).\n",
    "str_num = str(num_entero)\n",
    "type(str_num)"
   ]
  },
  {
   "cell_type": "code",
   "execution_count": 12,
   "id": "de376080-1b41-4abd-b3e0-bb86b9ca88de",
   "metadata": {},
   "outputs": [
    {
     "name": "stdin",
     "output_type": "stream",
     "text": [
      "¿Cuál es tu nombre? Adrian\n",
      "¿Cuál es tu edad? 25\n"
     ]
    },
    {
     "data": {
      "text/plain": [
       "'Me llamo Adrian y tengo 25 años.'"
      ]
     },
     "execution_count": 12,
     "metadata": {},
     "output_type": "execute_result"
    }
   ],
   "source": [
    "# Inputs\n",
    "name = input(\"¿Cuál es tu nombre?\")\n",
    "age = input(\"¿Cuál es tu edad?\")\n",
    "f'Me llamo {name} y tengo {age} años.'"
   ]
  }
 ],
 "metadata": {
  "kernelspec": {
   "display_name": "Python [conda env:base] *",
   "language": "python",
   "name": "conda-base-py"
  },
  "language_info": {
   "codemirror_mode": {
    "name": "ipython",
    "version": 3
   },
   "file_extension": ".py",
   "mimetype": "text/x-python",
   "name": "python",
   "nbconvert_exporter": "python",
   "pygments_lexer": "ipython3",
   "version": "3.12.7"
  }
 },
 "nbformat": 4,
 "nbformat_minor": 5
}
